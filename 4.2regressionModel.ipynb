{
 "cells": [
  {
   "cell_type": "code",
   "execution_count": 1,
   "metadata": {},
   "outputs": [
    {
     "data": {
      "text/plain": [
       "'here in this notebook, we will do certain processes: \\nstep 1: \\npredictiion: manually\\ngradient computation: manually\\nloss computation: manually\\nparameter updates:  manually\\n\\nstep 2: \\npredictiion: manually\\ngradient computation: autograd\\nloss computation: manually\\nparameter updates:  manually\\n\\nstep 3: \\npredictiion: manually\\ngradient computation: autograd\\nloss computation: pytorch loss\\nparameter updates:  pytorch optimizer\\n\\nstep 4: \\npredictiion: pytorch model\\ngradient computation: autograd\\nloss computation: pytorch loss\\nparameter updates:  pytorch optimizer\\n'"
      ]
     },
     "execution_count": 1,
     "metadata": {},
     "output_type": "execute_result"
    }
   ],
   "source": [
    "\"\"\"here in this notebook, we will do certain processes: \n",
    "step 1: \n",
    "predictiion: manually\n",
    "gradient computation: manually\n",
    "loss computation: manually\n",
    "parameter updates:  manually\n",
    "\n",
    "step 2: \n",
    "predictiion: manually\n",
    "gradient computation: autograd\n",
    "loss computation: manually\n",
    "parameter updates:  manually\n",
    "\n",
    "step 3: \n",
    "predictiion: manually\n",
    "gradient computation: autograd\n",
    "loss computation: pytorch loss\n",
    "parameter updates:  pytorch optimizer\n",
    "\n",
    "step 4: \n",
    "predictiion: pytorch model\n",
    "gradient computation: autograd\n",
    "loss computation: pytorch loss\n",
    "parameter updates:  pytorch optimizer\n",
    "\"\"\""
   ]
  },
  {
   "cell_type": "code",
   "execution_count": 2,
   "metadata": {},
   "outputs": [],
   "source": [
    "import torch"
   ]
  },
  {
   "cell_type": "code",
   "execution_count": 3,
   "metadata": {},
   "outputs": [],
   "source": [
    "# we use a function which is just linear combination of weights for our linear combination\n",
    "# we don't care about the bias here\n",
    "# f = w*x\n",
    "# f=2*x\n",
    "x=torch.tensor([1,2,3,4],dtype=torch.float32)\n",
    "y=torch.tensor([2,4,6,8],dtype=torch.float32)"
   ]
  },
  {
   "cell_type": "code",
   "execution_count": 4,
   "metadata": {},
   "outputs": [],
   "source": [
    "# initialie the weight\n",
    "w=torch.tensor(0.0,dtype=torch.float32,requires_grad=True)"
   ]
  },
  {
   "cell_type": "code",
   "execution_count": 5,
   "metadata": {},
   "outputs": [],
   "source": [
    "# model prediction\n",
    "def forward(x):\n",
    "    return w*x"
   ]
  },
  {
   "cell_type": "code",
   "execution_count": 6,
   "metadata": {},
   "outputs": [],
   "source": [
    "# loss= mean squared error\n",
    "def loss(y,y_predicted):\n",
    "    return ((y_predicted-y)**2).mean()"
   ]
  },
  {
   "cell_type": "code",
   "execution_count": null,
   "metadata": {},
   "outputs": [],
   "source": []
  },
  {
   "cell_type": "code",
   "execution_count": 7,
   "metadata": {},
   "outputs": [
    {
     "name": "stdout",
     "output_type": "stream",
     "text": [
      "prediction before training: f(5) = 0.000\n"
     ]
    }
   ],
   "source": [
    "print(f'prediction before training: f(5) = {forward(5):.3f}')\n"
   ]
  },
  {
   "cell_type": "code",
   "execution_count": 8,
   "metadata": {},
   "outputs": [],
   "source": [
    "# training\n",
    "learning_rate=0.01\n",
    "n_iters=100"
   ]
  },
  {
   "cell_type": "code",
   "execution_count": 9,
   "metadata": {},
   "outputs": [
    {
     "name": "stdout",
     "output_type": "stream",
     "text": [
      "prediction before training: f(5) = 0.000\n",
      "epoch 1: w = 0.300, loss = 30.00000000\n",
      "epoch 11: w = 1.665, loss = 1.16278565\n",
      "epoch 21: w = 1.934, loss = 0.04506890\n",
      "epoch 31: w = 1.987, loss = 0.00174685\n",
      "epoch 41: w = 1.997, loss = 0.00006770\n",
      "epoch 51: w = 1.999, loss = 0.00000262\n",
      "epoch 61: w = 2.000, loss = 0.00000010\n",
      "epoch 71: w = 2.000, loss = 0.00000000\n",
      "epoch 81: w = 2.000, loss = 0.00000000\n",
      "epoch 91: w = 2.000, loss = 0.00000000\n",
      "prediction after training: f(5) = 10.000\n"
     ]
    }
   ],
   "source": [
    "print(f'prediction before training: f(5) = {forward(5):.3f}')\n",
    "# training loops\n",
    "for epoch in range(n_iters):\n",
    "    # prediction = forward pass\n",
    "    y_pred=forward(x)\n",
    "\n",
    "    #loss\n",
    "    l=loss(y,y_pred)\n",
    "\n",
    "    # gradients = backward pass\n",
    "    l.backward() # dl/dw\n",
    "\n",
    "    # update weights\n",
    "    with torch.no_grad():\n",
    "        w-=learning_rate*w.grad\n",
    "    \n",
    "    # zero gradients\n",
    "    #to make sure our gradients are zero again\n",
    "    w.grad.zero_()\n",
    "\n",
    "    if epoch%10==0:\n",
    "        print(f'epoch {epoch+1}: w = {w:.3f}, loss = {l:.8f}')\n",
    "\n",
    "print(f'prediction after training: f(5) = {forward(5):.3f}')"
   ]
  },
  {
   "cell_type": "code",
   "execution_count": null,
   "metadata": {},
   "outputs": [],
   "source": []
  }
 ],
 "metadata": {
  "interpreter": {
   "hash": "82ed002fa2d4956f5c6aec99bcefe0f73a9f79882f3c9e2319b14958a5896ac5"
  },
  "kernelspec": {
   "display_name": "Python 3.9.6 64-bit",
   "language": "python",
   "name": "python3"
  },
  "language_info": {
   "codemirror_mode": {
    "name": "ipython",
    "version": 3
   },
   "file_extension": ".py",
   "mimetype": "text/x-python",
   "name": "python",
   "nbconvert_exporter": "python",
   "pygments_lexer": "ipython3",
   "version": "3.9.6"
  },
  "orig_nbformat": 4
 },
 "nbformat": 4,
 "nbformat_minor": 2
}
