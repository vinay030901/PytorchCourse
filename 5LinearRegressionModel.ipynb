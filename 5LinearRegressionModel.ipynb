{
 "cells": [
  {
   "cell_type": "code",
   "execution_count": 1,
   "metadata": {},
   "outputs": [],
   "source": [
    "# 1 design model(input size, output size,forward pass)\n",
    "# 2 construct loss and optimizer\n",
    "# 3 training loop\n",
    "# -forward pass:  compute prediction and loss\n",
    "# - backward pass: gradients\n",
    "# - update weights"
   ]
  },
  {
   "cell_type": "code",
   "execution_count": 2,
   "metadata": {},
   "outputs": [],
   "source": [
    "import torch \n",
    "import torch.nn as nn\n",
    "import numpy as np\n",
    "import matplotlib.pyplot as plt\n",
    "from sklearn import datasets"
   ]
  },
  {
   "cell_type": "code",
   "execution_count": 4,
   "metadata": {},
   "outputs": [],
   "source": [
    "#step 0: prepare data\n",
    "x_numpy, y_numpy = datasets.make_regression(n_samples=100,n_features=1,noise=20,random_state=1)\n",
    "\n",
    "x=torch.from_numpy(x_numpy.astype(np.float32))\n",
    "y=torch.from_numpy(y_numpy.astype(np.float32))"
   ]
  },
  {
   "cell_type": "code",
   "execution_count": 11,
   "metadata": {},
   "outputs": [
    {
     "name": "stdout",
     "output_type": "stream",
     "text": [
      "torch.Size([100, 1])\n",
      "torch.Size([100, 1])\n"
     ]
    }
   ],
   "source": [
    "# we will reshape out vector, here it has one row, but we want to reshape it to make a column vector\n",
    "y=y.view(y.shape[0],1)\n",
    "print(y.shape)\n",
    "print(x.shape)"
   ]
  },
  {
   "cell_type": "code",
   "execution_count": 13,
   "metadata": {},
   "outputs": [
    {
     "name": "stdout",
     "output_type": "stream",
     "text": [
      "100 1\n"
     ]
    }
   ],
   "source": [
    "n_sample,n_features=x.shape\n",
    "print(n_sample,n_features)"
   ]
  },
  {
   "cell_type": "code",
   "execution_count": 14,
   "metadata": {},
   "outputs": [],
   "source": [
    "#1 model\n",
    "input_size=n_features\n",
    "output_size=1\n",
    "model=nn.Linear(input_size, output_size)"
   ]
  },
  {
   "cell_type": "code",
   "execution_count": 18,
   "metadata": {},
   "outputs": [],
   "source": [
    "#2 loss and optimizer\n",
    "criterion =nn.MSELoss()\n",
    "learning_rate =0.01\n",
    "optimizer =torch.optim.SGD(model.parameters(),lr=learning_rate)"
   ]
  },
  {
   "cell_type": "code",
   "execution_count": 19,
   "metadata": {},
   "outputs": [
    {
     "name": "stdout",
     "output_type": "stream",
     "text": [
      "epoch : 10, loss : 4448.5405\n",
      "epoch : 20, loss : 3319.8716\n",
      "epoch : 30, loss : 2502.5134\n",
      "epoch : 40, loss : 1910.0060\n",
      "epoch : 50, loss : 1480.0945\n",
      "epoch : 60, loss : 1167.8928\n",
      "epoch : 70, loss : 940.9929\n",
      "epoch : 80, loss : 775.9679\n",
      "epoch : 90, loss : 655.8645\n",
      "epoch : 100, loss : 568.4012\n"
     ]
    }
   ],
   "source": [
    "# training loop\n",
    "epochs=100\n",
    "for epoch in range(epochs):\n",
    "\n",
    "    #forward pass\n",
    "    y_predicted=model(x)\n",
    "    loss=criterion(y_predicted,y)\n",
    "\n",
    "    # backward pass\n",
    "    loss.backward() # this will do the back propogation and calculate our gradients\n",
    "\n",
    "    # update\n",
    "    optimizer.step()\n",
    "    optimizer.zero_grad()\n",
    "\n",
    "    if (epoch+1) % 10 == 0:\n",
    "        print(f'epoch : {epoch+1}, loss : {loss.item():.4f}')"
   ]
  },
  {
   "cell_type": "code",
   "execution_count": 20,
   "metadata": {},
   "outputs": [
    {
     "data": {
      "image/png": "[encoded data removed]",
      "text/plain": [
       "<Figure size 432x288 with 1 Axes>"
      ]
     },
     "metadata": {
      "needs_background": "light"
     },
     "output_type": "display_data"
    }
   ],
   "source": [
    "# we need detach, because we want to prevent this from being tracked in our computationl graph\n",
    "# and then we need to plot it, so we convert it to numpy form\n",
    "predicted=model(x).detach().numpy()\n",
    "plt.plot(x_numpy,y_numpy,'ro')\n",
    "plt.plot(x_numpy,predicted,'b')\n",
    "plt.show()"
   ]
  },
  {
   "cell_type": "code",
   "execution_count": null,
   "metadata": {},
   "outputs": [],
   "source": []
  }
 ],
 "metadata": {
  "interpreter": {
   "hash": "0e091db8d58018cc79bd95d4c344ae6fb50dc1dda4747c0206fad4c7e07cd6fa"
  },
  "kernelspec": {
   "display_name": "Python 3.8.6 64-bit",
   "name": "python3"
  },
  "language_info": {
   "codemirror_mode": {
    "name": "ipython",
    "version": 3
   },
   "file_extension": ".py",
   "mimetype": "text/x-python",
   "name": "python",
   "nbconvert_exporter": "python",
   "pygments_lexer": "ipython3",
   "version": "3.8.6"
  },
  "orig_nbformat": 4
 },
 "nbformat": 4,
 "nbformat_minor": 2
}
