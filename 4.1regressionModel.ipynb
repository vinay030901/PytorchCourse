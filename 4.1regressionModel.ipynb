{
 "cells": [
  {
   "cell_type": "code",
   "execution_count": 12,
   "metadata": {},
   "outputs": [
    {
     "data": {
      "text/plain": [
       "'here in this notebook, we will do certain processes: \\nstep 1: \\npredictiion: manually\\ngradient computation: manually\\nloss computation: manually\\nparameter updates:  manually\\n\\nstep 2: \\npredictiion: manually\\ngradient computation: autograd\\nloss computation: manually\\nparameter updates:  manually\\n\\nstep 3: \\npredictiion: manually\\ngradient computation: autograd\\nloss computation: pytorch loss\\nparameter updates:  pytorch optimizer\\n\\nstep 4: \\npredictiion: pytorch model\\ngradient computation: autograd\\nloss computation: pytorch loss\\nparameter updates:  pytorch optimizer\\n'"
      ]
     },
     "execution_count": 12,
     "metadata": {},
     "output_type": "execute_result"
    }
   ],
   "source": [
    "\"\"\"here in this notebook, we will do certain processes: \n",
    "step 1: \n",
    "predictiion: manually\n",
    "gradient computation: manually\n",
    "loss computation: manually\n",
    "parameter updates:  manually\n",
    "\n",
    "step 2: \n",
    "predictiion: manually\n",
    "gradient computation: autograd\n",
    "loss computation: manually\n",
    "parameter updates:  manually\n",
    "\n",
    "step 3: \n",
    "predictiion: manually\n",
    "gradient computation: autograd\n",
    "loss computation: pytorch loss\n",
    "parameter updates:  pytorch optimizer\n",
    "\n",
    "step 4: \n",
    "predictiion: pytorch model\n",
    "gradient computation: autograd\n",
    "loss computation: pytorch loss\n",
    "parameter updates:  pytorch optimizer\n",
    "\"\"\""
   ]
  },
  {
   "cell_type": "code",
   "execution_count": 13,
   "metadata": {},
   "outputs": [],
   "source": [
    "import numpy as np"
   ]
  },
  {
   "cell_type": "code",
   "execution_count": 14,
   "metadata": {},
   "outputs": [],
   "source": [
    "# we use a function which is just linear combination of weights for our linear combination\n",
    "# we don't care about the bias here\n",
    "# f = w*x\n",
    "# f=2*x\n",
    "x=np.array([1,2,3,4],dtype=np.float32)\n",
    "y=np.array([2,4,6,8],dtype=np.float32)"
   ]
  },
  {
   "cell_type": "code",
   "execution_count": 15,
   "metadata": {},
   "outputs": [],
   "source": [
    "# initialie the weight\n",
    "w=0.0"
   ]
  },
  {
   "cell_type": "code",
   "execution_count": 16,
   "metadata": {},
   "outputs": [],
   "source": [
    "# model prediction\n",
    "def forward(x):\n",
    "    return w*x"
   ]
  },
  {
   "cell_type": "code",
   "execution_count": 17,
   "metadata": {},
   "outputs": [],
   "source": [
    "# loss= mean squared error\n",
    "def loss(y,y_predicted):\n",
    "    return ((y_predicted-y)**2).mean()"
   ]
  },
  {
   "cell_type": "code",
   "execution_count": 18,
   "metadata": {},
   "outputs": [],
   "source": [
    "# gradient\n",
    "# mse = 1/n *((w*x)-y)**2\n",
    "# dJ/dw = 1/n 2x (2*x-y)\n",
    "\n",
    "def gradient(x,y,y_predicted):\n",
    "    return np.dot(2*x,y_predicted-y).mean() # for the dot product "
   ]
  },
  {
   "cell_type": "code",
   "execution_count": 19,
   "metadata": {},
   "outputs": [
    {
     "name": "stdout",
     "output_type": "stream",
     "text": [
      "prediction before training: f(5) = 0.000\n"
     ]
    }
   ],
   "source": [
    "print(f'prediction before training: f(5) = {forward(5):.3f}')"
   ]
  },
  {
   "cell_type": "code",
   "execution_count": 20,
   "metadata": {},
   "outputs": [],
   "source": [
    "# training\n",
    "learning_rate=0.01\n",
    "n_iters=10"
   ]
  },
  {
   "cell_type": "code",
   "execution_count": 21,
   "metadata": {},
   "outputs": [
    {
     "name": "stdout",
     "output_type": "stream",
     "text": [
      "0.0\n"
     ]
    }
   ],
   "source": [
    "print(w)"
   ]
  },
  {
   "cell_type": "code",
   "execution_count": 22,
   "metadata": {},
   "outputs": [
    {
     "name": "stdout",
     "output_type": "stream",
     "text": [
      "prediction before training: f(5) = 0.000\n",
      "gradient value: -120.0\n",
      "epoch 1: w = 1.200, loss = 30.00000000\n",
      "gradient value: -47.999996185302734\n",
      "epoch 2: w = 1.680, loss = 4.79999924\n",
      "gradient value: -19.200002670288086\n",
      "epoch 3: w = 1.872, loss = 0.76800019\n",
      "gradient value: -7.679999828338623\n",
      "epoch 4: w = 1.949, loss = 0.12288000\n",
      "gradient value: -3.072002649307251\n",
      "epoch 5: w = 1.980, loss = 0.01966083\n",
      "gradient value: -1.2288014888763428\n",
      "epoch 6: w = 1.992, loss = 0.00314574\n",
      "gradient value: -0.4915158748626709\n",
      "epoch 7: w = 1.997, loss = 0.00050331\n",
      "gradient value: -0.1966094970703125\n",
      "epoch 8: w = 1.999, loss = 0.00008053\n",
      "gradient value: -0.07864165306091309\n",
      "epoch 9: w = 1.999, loss = 0.00001288\n",
      "gradient value: -0.03145551681518555\n",
      "epoch 10: w = 2.000, loss = 0.00000206\n",
      "prediction after training: f(5) = 9.999\n"
     ]
    }
   ],
   "source": [
    "print(f'prediction before training: f(5) = {forward(5):.3f}')\n",
    "# training loops\n",
    "for epoch in range(n_iters):\n",
    "    # prediction = forward pass\n",
    "    y_pred=forward(x)\n",
    "\n",
    "    #loss\n",
    "    l=loss(y,y_pred)\n",
    "\n",
    "    # gradients\n",
    "    dw=gradient(x,y,y_pred)\n",
    "    print(f'gradient value: {dw}')\n",
    "    \n",
    "    # update weights\n",
    "    w-=learning_rate*dw\n",
    "\n",
    "    if epoch%1==0:\n",
    "        print(f'epoch {epoch+1}: w = {w:.3f}, loss = {l:.8f}')\n",
    "\n",
    "print(f'prediction after training: f(5) = {forward(5):.3f}')"
   ]
  },
  {
   "cell_type": "code",
   "execution_count": null,
   "metadata": {},
   "outputs": [],
   "source": []
  }
 ],
 "metadata": {
  "interpreter": {
   "hash": "82ed002fa2d4956f5c6aec99bcefe0f73a9f79882f3c9e2319b14958a5896ac5"
  },
  "kernelspec": {
   "display_name": "Python 3.9.6 64-bit",
   "language": "python",
   "name": "python3"
  },
  "language_info": {
   "codemirror_mode": {
    "name": "ipython",
    "version": 3
   },
   "file_extension": ".py",
   "mimetype": "text/x-python",
   "name": "python",
   "nbconvert_exporter": "python",
   "pygments_lexer": "ipython3",
   "version": "3.9.6"
  },
  "orig_nbformat": 4
 },
 "nbformat": 4,
 "nbformat_minor": 2
}
