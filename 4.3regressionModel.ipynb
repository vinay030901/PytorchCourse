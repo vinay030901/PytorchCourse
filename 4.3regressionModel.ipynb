{
 "cells": [
  {
   "cell_type": "code",
   "execution_count": 27,
   "metadata": {},
   "outputs": [
    {
     "data": {
      "text/plain": [
       "'here in this notebook, we will do certain processes: \\nstep 1: \\npredictiion: manually\\ngradient computation: manually\\nloss computation: manually\\nparameter updates:  manually\\n\\nstep 2: \\npredictiion: manually\\ngradient computation: autograd\\nloss computation: manually\\nparameter updates:  manually\\n\\nstep 3: \\npredictiion: manually\\ngradient computation: autograd\\nloss computation: pytorch loss\\nparameter updates:  pytorch optimizer\\n\\nstep 4: \\npredictiion: pytorch model\\ngradient computation: autograd\\nloss computation: pytorch loss\\nparameter updates:  pytorch optimizer\\n'"
      ]
     },
     "execution_count": 27,
     "metadata": {},
     "output_type": "execute_result"
    }
   ],
   "source": [
    "\"\"\"here in this notebook, we will do certain processes: \n",
    "step 1: \n",
    "predictiion: manually\n",
    "gradient computation: manually\n",
    "loss computation: manually\n",
    "parameter updates:  manually\n",
    "\n",
    "step 2: \n",
    "predictiion: manually\n",
    "gradient computation: autograd\n",
    "loss computation: manually\n",
    "parameter updates:  manually\n",
    "\n",
    "step 3: \n",
    "predictiion: manually\n",
    "gradient computation: autograd\n",
    "loss computation: pytorch loss\n",
    "parameter updates:  pytorch optimizer\n",
    "\n",
    "step 4: \n",
    "predictiion: pytorch model\n",
    "gradient computation: autograd\n",
    "loss computation: pytorch loss\n",
    "parameter updates:  pytorch optimizer\n",
    "\"\"\""
   ]
  },
  {
   "cell_type": "code",
   "execution_count": 28,
   "metadata": {},
   "outputs": [],
   "source": [
    "# the typical steps are: \n",
    "# 1) design model (input, output size, forward pass)\n",
    "# 2) construct loss and optimizer\n",
    "# 3) training loop\n",
    "#  - forward pass: compute prediction\n",
    "#  - backward pass: gradients\n",
    "#  - update our weights"
   ]
  },
  {
   "cell_type": "code",
   "execution_count": 29,
   "metadata": {},
   "outputs": [],
   "source": [
    "import torch\n",
    "import torch.nn as nn"
   ]
  },
  {
   "cell_type": "code",
   "execution_count": 30,
   "metadata": {},
   "outputs": [],
   "source": [
    "# we use a function which is just linear combination of weights for our linear combination\n",
    "# we don't care about the bias here\n",
    "# f = w*x\n",
    "# f=2*x\n",
    "x=torch.tensor([1,2,3,4],dtype=torch.float32)\n",
    "y=torch.tensor([2,4,6,8],dtype=torch.float32)"
   ]
  },
  {
   "cell_type": "code",
   "execution_count": 31,
   "metadata": {},
   "outputs": [],
   "source": [
    "# initialie the weight\n",
    "w=torch.tensor(0.0,dtype=torch.float32,requires_grad=True)"
   ]
  },
  {
   "cell_type": "code",
   "execution_count": 32,
   "metadata": {},
   "outputs": [],
   "source": [
    "# model prediction\n",
    "def forward(x):\n",
    "    return w*x"
   ]
  },
  {
   "cell_type": "code",
   "execution_count": null,
   "metadata": {},
   "outputs": [],
   "source": []
  },
  {
   "cell_type": "code",
   "execution_count": null,
   "metadata": {},
   "outputs": [],
   "source": []
  },
  {
   "cell_type": "code",
   "execution_count": 33,
   "metadata": {},
   "outputs": [
    {
     "name": "stdout",
     "output_type": "stream",
     "text": [
      "prediction before training: f(5) = 0.000\n"
     ]
    }
   ],
   "source": [
    "print(f'prediction before training: f(5) = {forward(5):.3f}')"
   ]
  },
  {
   "cell_type": "code",
   "execution_count": 34,
   "metadata": {},
   "outputs": [],
   "source": [
    "# training\n",
    "learning_rate=0.01\n",
    "n_iters=100"
   ]
  },
  {
   "cell_type": "code",
   "execution_count": 35,
   "metadata": {},
   "outputs": [],
   "source": [
    "loss=nn.MSELoss()\n",
    "# Statistic gradient descent\n",
    "optimizer=torch.optim.SGD([w],lr=learning_rate)"
   ]
  },
  {
   "cell_type": "code",
   "execution_count": 36,
   "metadata": {},
   "outputs": [
    {
     "name": "stdout",
     "output_type": "stream",
     "text": [
      "prediction before training: f(5) = 0.000\n",
      "epoch 1: w = 0.300, loss = 30.00000000\n",
      "epoch 11: w = 1.665, loss = 1.16278565\n",
      "epoch 21: w = 1.934, loss = 0.04506890\n",
      "epoch 31: w = 1.987, loss = 0.00174685\n",
      "epoch 41: w = 1.997, loss = 0.00006770\n",
      "epoch 51: w = 1.999, loss = 0.00000262\n",
      "epoch 61: w = 2.000, loss = 0.00000010\n",
      "epoch 71: w = 2.000, loss = 0.00000000\n",
      "epoch 81: w = 2.000, loss = 0.00000000\n",
      "epoch 91: w = 2.000, loss = 0.00000000\n",
      "prediction after training: f(5) = 10.000\n"
     ]
    }
   ],
   "source": [
    "print(f'prediction before training: f(5) = {forward(5):.3f}')\n",
    "# training loops\n",
    "for epoch in range(n_iters):\n",
    "    # prediction = forward pass\n",
    "    y_pred=forward(x)\n",
    "\n",
    "    #loss\n",
    "    l=loss(y,y_pred)\n",
    "\n",
    "    # gradients = backward pass\n",
    "    l.backward() # dl/dw\n",
    "\n",
    "    # update weights\n",
    "    optimizer.step()\n",
    "    \n",
    "    # zero gradients\n",
    "    #to make sure our gradients are zero again\n",
    "    optimizer.zero_grad()\n",
    "\n",
    "    if epoch%10==0:\n",
    "        print(f'epoch {epoch+1}: w = {w:.3f}, loss = {l:.8f}')\n",
    "\n",
    "print(f'prediction after training: f(5) = {forward(5):.3f}')"
   ]
  },
  {
   "cell_type": "code",
   "execution_count": null,
   "metadata": {},
   "outputs": [],
   "source": [
    "import pytorch.nn as nn\n",
    "loss=nn.MSELoss()\n",
    "optimizer=torch.optim.SGD([w],lr=learning_rate)"
   ]
  }
 ],
 "metadata": {
  "interpreter": {
   "hash": "0e091db8d58018cc79bd95d4c344ae6fb50dc1dda4747c0206fad4c7e07cd6fa"
  },
  "kernelspec": {
   "display_name": "Python 3.8.6 64-bit",
   "name": "python3"
  },
  "language_info": {
   "codemirror_mode": {
    "name": "ipython",
    "version": 3
   },
   "file_extension": ".py",
   "mimetype": "text/x-python",
   "name": "python",
   "nbconvert_exporter": "python",
   "pygments_lexer": "ipython3",
   "version": "3.8.6"
  },
  "orig_nbformat": 4
 },
 "nbformat": 4,
 "nbformat_minor": 2
}
