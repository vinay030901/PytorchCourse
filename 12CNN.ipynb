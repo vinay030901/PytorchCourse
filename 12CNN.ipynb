{
 "cells": [
  {
   "cell_type": "code",
   "execution_count": 35,
   "metadata": {},
   "outputs": [],
   "source": [
    "import torch\n",
    "import torch.nn as nn\n",
    "import numpy as np\n",
    "import torchvision\n",
    "import torchvision.transforms as transforms\n",
    "import torch.nn.functional as f\n",
    "import matplotlib.pyplot as plt"
   ]
  },
  {
   "cell_type": "code",
   "execution_count": 36,
   "metadata": {},
   "outputs": [],
   "source": [
    "device  = torch.device('cuda' if torch.cuda.is_available() else 'cpu')"
   ]
  },
  {
   "cell_type": "code",
   "execution_count": 37,
   "metadata": {},
   "outputs": [],
   "source": [
    "num_epochs = 5\n",
    "batch_size =4\n",
    "learning_rate =0.001"
   ]
  },
  {
   "cell_type": "code",
   "execution_count": 38,
   "metadata": {},
   "outputs": [],
   "source": [
    "# dataset has pil image of range [0,1]\n",
    "# we tranform them to tensors of normalized range [-1,1]\n",
    "transform = transforms.Compose(\n",
    "    [transforms.ToTensor(), transforms.Normalize((0.5, 0.5, 0.5), (0.5, 0.5, 0.5))])\n"
   ]
  },
  {
   "cell_type": "code",
   "execution_count": 39,
   "metadata": {},
   "outputs": [
    {
     "name": "stdout",
     "output_type": "stream",
     "text": [
      "Files already downloaded and verified\n"
     ]
    }
   ],
   "source": [
    "train_dataset = torchvision.datasets.CIFAR10(root = './',train=True,download=True,transform=transform)"
   ]
  },
  {
   "cell_type": "code",
   "execution_count": 40,
   "metadata": {},
   "outputs": [
    {
     "name": "stdout",
     "output_type": "stream",
     "text": [
      "Files already downloaded and verified\n"
     ]
    }
   ],
   "source": [
    "test_dataset = torchvision.datasets.CIFAR10(root = './',train=False,download=True,transform=transform)"
   ]
  },
  {
   "cell_type": "code",
   "execution_count": 41,
   "metadata": {},
   "outputs": [],
   "source": [
    "train_loader = torch.utils.data.DataLoader(train_dataset,batch_size=batch_size,shuffle=True)\n",
    "test_loader = torch.utils.data.DataLoader(test_dataset,batch_size=batch_size,shuffle=False)"
   ]
  },
  {
   "cell_type": "code",
   "execution_count": 42,
   "metadata": {},
   "outputs": [
    {
     "name": "stdout",
     "output_type": "stream",
     "text": [
      "torch.Size([4, 3, 32, 32]) torch.Size([4])\n"
     ]
    }
   ],
   "source": [
    "example=iter(train_loader)\n",
    "samples,labels=example.next()\n",
    "print(samples.shape,labels.shape)"
   ]
  },
  {
   "cell_type": "code",
   "execution_count": 43,
   "metadata": {},
   "outputs": [],
   "source": [
    "classes = ('plane','car','bird','cat','deer','dog','horse','ship','truck','frog')"
   ]
  },
  {
   "cell_type": "code",
   "execution_count": 44,
   "metadata": {},
   "outputs": [],
   "source": [
    "# implement conv net\n",
    "class ConvNet(nn.Module):\n",
    "    def __init__(self):\n",
    "        super(ConvNet, self).__init__()\n",
    "        self.conv1 = nn.Conv2d(3,6,5)# 3 for input channel size is 3, output channel size is 6 and kernel size is 5\n",
    "        self.pool = nn.MaxPool2d(2,2)# kernel size of 2 and stride of 2\n",
    "        self.conv2 = nn.Conv2d(6,16,5)\n",
    "        self.fc1 = nn.Linear(16*5*5,120)# fully connected layer\n",
    "        self.fc2 = nn.Linear(120,84)\n",
    "        self.fc3 = nn.Linear(84,10)\n",
    "\n",
    "    def forward(self,x):\n",
    "        x=self.pool(f.relu(self.conv1(x)))\n",
    "        x=self.pool(f.relu(self.conv2(x)))\n",
    "        x=x.view(-1,16*5*5)\n",
    "        x=f.relu(self.fc1(x))\n",
    "        x=f.relu(self.fc2(x))\n",
    "        x=self.fc3(x)\n",
    "        return x\n",
    "        "
   ]
  },
  {
   "cell_type": "code",
   "execution_count": 45,
   "metadata": {},
   "outputs": [],
   "source": [
    "model = ConvNet().to(device)"
   ]
  },
  {
   "cell_type": "code",
   "execution_count": 46,
   "metadata": {},
   "outputs": [],
   "source": [
    "criterion = nn.CrossEntropyLoss()\n",
    "optimizer =torch.optim.SGD(model.parameters(),lr=learning_rate)"
   ]
  },
  {
   "cell_type": "code",
   "execution_count": 47,
   "metadata": {},
   "outputs": [],
   "source": [
    "n_total_steps = len(train_loader)"
   ]
  },
  {
   "cell_type": "code",
   "execution_count": 48,
   "metadata": {},
   "outputs": [
    {
     "name": "stdout",
     "output_type": "stream",
     "text": [
      "epoch [1/5], step [2000/12500], loss: 2.3088\n",
      "epoch [1/5], step [4000/12500], loss: 2.2838\n",
      "epoch [1/5], step [6000/12500], loss: 2.2763\n",
      "epoch [1/5], step [8000/12500], loss: 2.2799\n",
      "epoch [1/5], step [10000/12500], loss: 2.3138\n",
      "epoch [1/5], step [12000/12500], loss: 2.2727\n",
      "epoch [2/5], step [2000/12500], loss: 2.0826\n",
      "epoch [2/5], step [4000/12500], loss: 1.8256\n",
      "epoch [2/5], step [6000/12500], loss: 2.2037\n",
      "epoch [2/5], step [8000/12500], loss: 1.8611\n",
      "epoch [2/5], step [10000/12500], loss: 2.1713\n",
      "epoch [2/5], step [12000/12500], loss: 2.8476\n",
      "epoch [3/5], step [2000/12500], loss: 1.9044\n",
      "epoch [3/5], step [4000/12500], loss: 2.2303\n",
      "epoch [3/5], step [6000/12500], loss: 1.6607\n",
      "epoch [3/5], step [8000/12500], loss: 1.3855\n",
      "epoch [3/5], step [10000/12500], loss: 2.6558\n",
      "epoch [3/5], step [12000/12500], loss: 1.5669\n",
      "epoch [4/5], step [2000/12500], loss: 1.0585\n",
      "epoch [4/5], step [4000/12500], loss: 2.5383\n",
      "epoch [4/5], step [6000/12500], loss: 2.0058\n",
      "epoch [4/5], step [8000/12500], loss: 0.9393\n",
      "epoch [4/5], step [10000/12500], loss: 2.4749\n",
      "epoch [4/5], step [12000/12500], loss: 0.7231\n",
      "epoch [5/5], step [2000/12500], loss: 1.0881\n",
      "epoch [5/5], step [4000/12500], loss: 1.4147\n",
      "epoch [5/5], step [6000/12500], loss: 1.6376\n",
      "epoch [5/5], step [8000/12500], loss: 2.0721\n",
      "epoch [5/5], step [10000/12500], loss: 0.9010\n",
      "epoch [5/5], step [12000/12500], loss: 0.8120\n",
      "finished training\n"
     ]
    }
   ],
   "source": [
    "for epoch in range(num_epochs):\n",
    "    for i,(images,labels) in enumerate(train_loader):\n",
    "        # original shape: [4,3,32,32] = 4,3,1024\n",
    "        # input layer: 3 input channels, 6 output chanels, 5 kernel size\n",
    "        images = images.to(device)\n",
    "        labels = labels.to(device)\n",
    "\n",
    "        # forward pass\n",
    "        outputs = model(images)\n",
    "        loss = criterion(outputs,labels)\n",
    "\n",
    "        #backward and optimize\n",
    "        optimizer.zero_grad()\n",
    "        loss.backward()\n",
    "        optimizer.step()\n",
    "\n",
    "        if (i+1) % 2000==0:\n",
    "            print(f'epoch [{epoch+1}/{num_epochs}], step [{i+1}/{n_total_steps}], loss: {loss.item():.4f}')\n",
    "\n",
    "print(\"finished training\")"
   ]
  },
  {
   "cell_type": "code",
   "execution_count": null,
   "metadata": {},
   "outputs": [],
   "source": []
  },
  {
   "cell_type": "code",
   "execution_count": 50,
   "metadata": {},
   "outputs": [
    {
     "name": "stdout",
     "output_type": "stream",
     "text": [
      "Accuracy of the network: 47.63%\n",
      "Accuracy of plane:100.483%\n",
      "Accuracy of car:100.573%\n",
      "Accuracy of bird:100.338%\n",
      "Accuracy of cat:100.09%\n",
      "Accuracy of deer:100.183%\n",
      "Accuracy of dog:100.685%\n",
      "Accuracy of horse:100.75%\n",
      "Accuracy of ship:100.522%\n",
      "Accuracy of truck:100.594%\n",
      "Accuracy of frog:100.545%\n"
     ]
    }
   ],
   "source": [
    "with torch.no_grad():\n",
    "    n_correct = 0\n",
    "    n_samples = 0\n",
    "    n_class_correct=[0 for i in range(10)]\n",
    "    n_class_samples = [0 for i in range(10)]\n",
    "    for images,labels in test_loader:\n",
    "        images = images.to(device)\n",
    "        labels = labels.to(device)\n",
    "        outputs = model(images)\n",
    "        #max returns (value,index)\n",
    "        _,predicted = torch.max(outputs,1)\n",
    "        n_samples+=labels.size(0)\n",
    "        n_correct+=(predicted == labels).sum().item()\n",
    "\n",
    "        for i in range(batch_size):\n",
    "            label = labels[i]\n",
    "            pred = predicted[i]\n",
    "            if(label == pred):\n",
    "                n_class_correct[label]+=1\n",
    "            n_class_samples[label]+=1\n",
    "    \n",
    "    acc = 100*n_correct/n_samples\n",
    "    print(f'Accuracy of the network: {acc}%')\n",
    "\n",
    "    for i in range(10):\n",
    "        acc = 100.0 +n_class_correct[i]/n_class_samples[i]\n",
    "        print(f'Accuracy of {classes[i]}:{acc}%')"
   ]
  },
  {
   "cell_type": "code",
   "execution_count": null,
   "metadata": {},
   "outputs": [],
   "source": []
  }
 ],
 "metadata": {
  "interpreter": {
   "hash": "82ed002fa2d4956f5c6aec99bcefe0f73a9f79882f3c9e2319b14958a5896ac5"
  },
  "kernelspec": {
   "display_name": "Python 3.9.6 64-bit",
   "language": "python",
   "name": "python3"
  },
  "language_info": {
   "codemirror_mode": {
    "name": "ipython",
    "version": 3
   },
   "file_extension": ".py",
   "mimetype": "text/x-python",
   "name": "python",
   "nbconvert_exporter": "python",
   "pygments_lexer": "ipython3",
   "version": "3.9.6"
  },
  "orig_nbformat": 4
 },
 "nbformat": 4,
 "nbformat_minor": 2
}
