{
 "cells": [
  {
   "cell_type": "code",
   "execution_count": 19,
   "metadata": {},
   "outputs": [],
   "source": [
    "import torch"
   ]
  },
  {
   "cell_type": "markdown",
   "metadata": {},
   "source": []
  },
  {
   "cell_type": "code",
   "execution_count": 20,
   "metadata": {},
   "outputs": [
    {
     "name": "stdout",
     "output_type": "stream",
     "text": [
      "tensor([-0.4029,  0.4758, -0.6057], requires_grad=True)\n"
     ]
    }
   ],
   "source": [
    "x=torch.randn(3,requires_grad=True) # by default this is false\n",
    "print(x)\n",
    "# so w\n",
    "# henever we do any sort of computations, pytorch will create a computational graph for us"
   ]
  },
  {
   "cell_type": "code",
   "execution_count": 21,
   "metadata": {},
   "outputs": [],
   "source": [
    "y=x+2\n",
    "# just like the back propagation"
   ]
  },
  {
   "cell_type": "markdown",
   "metadata": {},
   "source": [
    "since, we specified that it requires a gradient, pytorch will automatically create a function for us and this \n",
    "will be used for create gradient"
   ]
  },
  {
   "cell_type": "code",
   "execution_count": 22,
   "metadata": {},
   "outputs": [
    {
     "name": "stdout",
     "output_type": "stream",
     "text": [
      "tensor([1.5971, 2.4758, 1.3943], grad_fn=<AddBackward0>)\n"
     ]
    }
   ],
   "source": [
    "print(y)\n",
    "# pytorch created a AddBackward0 function"
   ]
  },
  {
   "cell_type": "code",
   "execution_count": 23,
   "metadata": {},
   "outputs": [
    {
     "name": "stdout",
     "output_type": "stream",
     "text": [
      "tensor([ 5.1016, 12.2595,  3.8882], grad_fn=<MulBackward0>)\n"
     ]
    }
   ],
   "source": [
    "z=y*y*2\n",
    "print(z)\n",
    "# pytorch created a MulBackward0 function"
   ]
  },
  {
   "cell_type": "code",
   "execution_count": 24,
   "metadata": {},
   "outputs": [
    {
     "name": "stdout",
     "output_type": "stream",
     "text": [
      "tensor(7.0831, grad_fn=<MeanBackward0>)\n"
     ]
    }
   ],
   "source": [
    "# so whatever we are doing, pytorch is creating a backward function related to it\n",
    "z=z.mean()\n",
    "print(z)"
   ]
  },
  {
   "cell_type": "code",
   "execution_count": 25,
   "metadata": {},
   "outputs": [
    {
     "name": "stdout",
     "output_type": "stream",
     "text": [
      "tensor([2.1295, 3.3011, 1.8591])\n"
     ]
    }
   ],
   "source": [
    "z.backward() \n",
    "print(x.grad)"
   ]
  },
  {
   "cell_type": "code",
   "execution_count": 26,
   "metadata": {},
   "outputs": [],
   "source": [
    "v=torch.tensor([.1,1.0,0.001],dtype=torch.float64)"
   ]
  },
  {
   "cell_type": "code",
   "execution_count": 27,
   "metadata": {},
   "outputs": [
    {
     "data": {
      "text/plain": [
       "tensor([-0.8019, -0.2488, -0.6465], requires_grad=True)"
      ]
     },
     "execution_count": 27,
     "metadata": {},
     "output_type": "execute_result"
    }
   ],
   "source": [
    "x=torch.randn(3,requires_grad=True)\n",
    "x"
   ]
  },
  {
   "cell_type": "code",
   "execution_count": 28,
   "metadata": {},
   "outputs": [],
   "source": [
    "# now we want to know to prevent it from tracking the gradient, we have three option\n",
    "# first to call requires_grad function and set it to false\n",
    "#x.requires_grad(False)\n",
    "# second is to call x.detach, this will create a new tensor that will not require the gradient\n",
    "# x.detach()\n",
    "# third with torch.no_grad()\n",
    "# x.no_grad()"
   ]
  },
  {
   "cell_type": "code",
   "execution_count": 38,
   "metadata": {},
   "outputs": [
    {
     "name": "stdout",
     "output_type": "stream",
     "text": [
      "tensor([ 0.5243, -0.3822, -0.4152])\n",
      "now, we can see that it doesn't have the requirs grad option\n"
     ]
    }
   ],
   "source": [
    "x.requires_grad_(False)\n",
    "print(x)\n",
    "print(\"now, we can see that it doesn't have the requirs grad option\")"
   ]
  },
  {
   "cell_type": "code",
   "execution_count": 30,
   "metadata": {},
   "outputs": [
    {
     "name": "stdout",
     "output_type": "stream",
     "text": [
      "tensor([ 1.0396, -0.3481, -0.6999], requires_grad=True)\n",
      "tensor([ 1.0396, -0.3481, -0.6999])\n",
      "it has created a vector y which doesn't need have requires grad\n"
     ]
    }
   ],
   "source": [
    "x=torch.randn(3,requires_grad=True)\n",
    "print(x)\n",
    "y=x.detach()\n",
    "print(y)\n",
    "print(\"it has created a vector y which doesn't need have requires grad\")"
   ]
  },
  {
   "cell_type": "code",
   "execution_count": 31,
   "metadata": {},
   "outputs": [
    {
     "name": "stdout",
     "output_type": "stream",
     "text": [
      "tensor([ 0.5243, -0.3822, -0.4152])\n"
     ]
    }
   ],
   "source": [
    "x=torch.randn(3,requires_grad=True)\n",
    "with torch.no_grad():\n",
    "    y=x-1+1\n",
    "    print(y)"
   ]
  },
  {
   "cell_type": "code",
   "execution_count": 40,
   "metadata": {},
   "outputs": [
    {
     "name": "stdout",
     "output_type": "stream",
     "text": [
      "tensor([1., 1., 1., 1.], requires_grad=True)\n",
      "tensor(12., grad_fn=<SumBackward0>)\n",
      "tensor(12., grad_fn=<SumBackward0>)\n",
      "tensor([1., 1., 1., 1.], requires_grad=True)\n",
      "tensor([3., 3., 3., 3.])\n"
     ]
    }
   ],
   "source": [
    "# whenever we call the backward function, then the gradient for this tensor will be accumulated into the .grad attribute\n",
    "# that is, the values will be summed up\n",
    "# let's have a training example\n",
    "weights=torch.ones(4,requires_grad=True)\n",
    "print(weights)\n",
    "for epoch in range(1):\n",
    "    model_output=(weights*3).sum()\n",
    "    print(model_output)\n",
    "    model_output.backward()\n",
    "    print(model_output)\n",
    "    print(weights)\n",
    "    print(weights.grad)"
   ]
  },
  {
   "cell_type": "code",
   "execution_count": 41,
   "metadata": {},
   "outputs": [
    {
     "name": "stdout",
     "output_type": "stream",
     "text": [
      "tensor(12., grad_fn=<SumBackward0>)\n",
      "tensor([6., 6., 6., 6.])\n"
     ]
    }
   ],
   "source": [
    "# now if we do another iteration\n",
    "for epoch in range(1):\n",
    "    model_output=(weights*3).sum()\n",
    "\n",
    "    model_output.backward()\n",
    "    print(model_output)\n",
    "    print(weights.grad)"
   ]
  },
  {
   "cell_type": "code",
   "execution_count": 34,
   "metadata": {},
   "outputs": [
    {
     "name": "stdout",
     "output_type": "stream",
     "text": [
      "tensor([9., 9., 9., 9.])\n"
     ]
    }
   ],
   "source": [
    "# do third iteration\n",
    "for epoch in range(1):\n",
    "    model_output=(weights*3).sum()\n",
    "\n",
    "    model_output.backward()\n",
    "\n",
    "    print(weights.grad)"
   ]
  },
  {
   "cell_type": "code",
   "execution_count": 35,
   "metadata": {},
   "outputs": [
    {
     "name": "stdout",
     "output_type": "stream",
     "text": [
      "tensor([3., 3., 3., 3.])\n",
      "tensor([6., 6., 6., 6.])\n",
      "tensor([9., 9., 9., 9.])\n",
      "this is obviously wrong here\n"
     ]
    }
   ],
   "source": [
    "weights=torch.ones(4,requires_grad=True)\n",
    "for epoch in range(3):\n",
    "    model_output=(weights*3).sum()\n",
    "\n",
    "    model_output.backward()\n",
    "\n",
    "    print(weights.grad)\n",
    "print(\"this is obviously wrong here\")"
   ]
  },
  {
   "cell_type": "code",
   "execution_count": 36,
   "metadata": {},
   "outputs": [
    {
     "name": "stdout",
     "output_type": "stream",
     "text": [
      "tensor([3., 3., 3., 3.])\n",
      "tensor([3., 3., 3., 3.])\n",
      "tensor([3., 3., 3., 3.])\n"
     ]
    }
   ],
   "source": [
    "weights=torch.ones(4,requires_grad=True)\n",
    "for epoch in range(3):\n",
    "    model_output=(weights*3).sum()\n",
    "\n",
    "    model_output.backward()\n",
    "\n",
    "    print(weights.grad)\n",
    "\n",
    "    weights.grad.zero_()"
   ]
  },
  {
   "cell_type": "code",
   "execution_count": 37,
   "metadata": {},
   "outputs": [
    {
     "name": "stdout",
     "output_type": "stream",
     "text": [
      "SGD (\n",
      "Parameter Group 0\n",
      "    dampening: 0\n",
      "    lr: 0.01\n",
      "    maximize: False\n",
      "    momentum: 0\n",
      "    nesterov: False\n",
      "    weight_decay: 0\n",
      ")\n"
     ]
    }
   ],
   "source": [
    "# later we will word on torch optimizer, let's use ones of them\n",
    "weights=torch.ones(4,requires_grad=True)\n",
    "optimizer=torch.optim.SGD([weights],lr=0.01)\n",
    "optimizer.step()\n",
    "optimizer.zero_grad()\n",
    "print(optimizer)\n"
   ]
  },
  {
   "cell_type": "code",
   "execution_count": null,
   "metadata": {},
   "outputs": [],
   "source": []
  }
 ],
 "metadata": {
  "interpreter": {
   "hash": "82ed002fa2d4956f5c6aec99bcefe0f73a9f79882f3c9e2319b14958a5896ac5"
  },
  "kernelspec": {
   "display_name": "Python 3.9.6 64-bit",
   "language": "python",
   "name": "python3"
  },
  "language_info": {
   "codemirror_mode": {
    "name": "ipython",
    "version": 3
   },
   "file_extension": ".py",
   "mimetype": "text/x-python",
   "name": "python",
   "nbconvert_exporter": "python",
   "pygments_lexer": "ipython3",
   "version": "3.9.6"
  },
  "orig_nbformat": 4
 },
 "nbformat": 4,
 "nbformat_minor": 2
}
