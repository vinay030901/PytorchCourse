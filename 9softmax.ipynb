{
 "cells": [
  {
   "cell_type": "code",
   "execution_count": 1,
   "metadata": {},
   "outputs": [],
   "source": [
    "import torch\n",
    "import torch.nn as nn\n",
    "import numpy as np"
   ]
  },
  {
   "cell_type": "code",
   "execution_count": 2,
   "metadata": {},
   "outputs": [],
   "source": [
    "def softmax(x):\n",
    "    return np.exp(x)/np.sum(np.exp(x),axis=0)"
   ]
  },
  {
   "cell_type": "code",
   "execution_count": 3,
   "metadata": {},
   "outputs": [
    {
     "name": "stdout",
     "output_type": "stream",
     "text": [
      "softmax numpy:  [0.65900114 0.24243297 0.09856589]\n"
     ]
    }
   ],
   "source": [
    "x=np.array([2.0,1.0,0.1])\n",
    "outputs=softmax(x)\n",
    "print(\"softmax numpy: \",outputs)"
   ]
  },
  {
   "cell_type": "code",
   "execution_count": 4,
   "metadata": {},
   "outputs": [
    {
     "name": "stdout",
     "output_type": "stream",
     "text": [
      "softmax using pytorch:  tensor([0.6590, 0.2424, 0.0986])\n"
     ]
    }
   ],
   "source": [
    "x=torch.tensor([2.0,1.0,0.1])\n",
    "outputs=torch.softmax(x,dim=0)\n",
    "print(\"softmax using pytorch: \",outputs)"
   ]
  },
  {
   "cell_type": "code",
   "execution_count": 5,
   "metadata": {},
   "outputs": [],
   "source": [
    "def cross_entropy(actual,predicted):\n",
    "    loss=-np.sum(actual*np.log(predicted))\n",
    "    return loss # float(predicted.shape[0])"
   ]
  },
  {
   "cell_type": "code",
   "execution_count": 6,
   "metadata": {},
   "outputs": [],
   "source": [
    "# y must be hot encoded, otherwise\n",
    "# if class 0:[1 0 0] \n",
    "# if class 1: [0 1 0]\n",
    "# if class 2: [0 0 1]\n",
    "y=np.array([1, 0, 0])"
   ]
  },
  {
   "cell_type": "code",
   "execution_count": 7,
   "metadata": {},
   "outputs": [
    {
     "name": "stdout",
     "output_type": "stream",
     "text": [
      "loss1 numpy: 0.3567\n",
      "loss 2 numpy: 2.3026\n"
     ]
    }
   ],
   "source": [
    "# y_pred has probabilities\n",
    "y_pred_good = np.array([0.7, 0.2, 0.1])\n",
    "y_pred_bad = np.array([0.1, 0.2, 0.6])\n",
    "l1=cross_entropy(y,y_pred_good)\n",
    "l2=cross_entropy(y,y_pred_bad)\n",
    "print(f'loss1 numpy: {l1:.4f}')\n",
    "print(f'loss 2 numpy: {l2:.4f}')\n",
    "# lower the cross entropy, more better the probability"
   ]
  },
  {
   "cell_type": "markdown",
   "metadata": {},
   "source": [
    "careful\n",
    "nn.CrossEntropyLoss applies\n",
    "nn.LogSoftmax + nn.NLLLoss(negative log likelihood loss)\n",
    "\n",
    "y has class labels, notont-hot\n",
    "y_pred has raw scores(logits), no softmax"
   ]
  },
  {
   "cell_type": "code",
   "execution_count": 8,
   "metadata": {},
   "outputs": [],
   "source": [
    "# calculating cross entropy using pytorch\n",
    "loss = nn.CrossEntropyLoss()"
   ]
  },
  {
   "cell_type": "code",
   "execution_count": 9,
   "metadata": {},
   "outputs": [
    {
     "name": "stdout",
     "output_type": "stream",
     "text": [
      "0.4170299470424652\n",
      "1.840616226196289\n"
     ]
    }
   ],
   "source": [
    "y=torch.tensor([0]) # not be hot encoded\n",
    "# n_samples * n_classes =1*3\n",
    "y_pred_good = torch.tensor([[2.0,1.0,0.1]])\n",
    "y_pred_bad = torch.tensor([[0.5,2.0,0.3]])\n",
    "\n",
    "l1=loss(y_pred_good,y)\n",
    "l2=loss(y_pred_bad,y)\n",
    "print(l1.item()) # good prediction has lower cross entropy \n",
    "print(l2.item()) # bad prediction has higher cross entropy "
   ]
  },
  {
   "cell_type": "code",
   "execution_count": 10,
   "metadata": {},
   "outputs": [
    {
     "name": "stdout",
     "output_type": "stream",
     "text": [
      "tensor([0])\n",
      "tensor([1])\n"
     ]
    }
   ],
   "source": [
    "_,prediction1 =torch.max(y_pred_good,1)\n",
    "_,prediction2 = torch.max(y_pred_bad,1)\n",
    "print(prediction1)\n",
    "print(prediction2)"
   ]
  },
  {
   "cell_type": "code",
   "execution_count": 11,
   "metadata": {},
   "outputs": [
    {
     "name": "stdout",
     "output_type": "stream",
     "text": [
      "0.3018244206905365\n",
      "1.6241613626480103\n"
     ]
    }
   ],
   "source": [
    "# now for multiple samples\n",
    "y=torch.tensor([2,0,1])\n",
    "\n",
    "y_pred_good = torch.tensor([[0.1,1.0,2.1],[2.0,1.0,0.1],[0.1,3.0,0.1]])\n",
    "y_pred_bad=torch.tensor([[2.1,1.0,0.1],[0.1,1.0,2.1],[0.1,3.0,0.1]])\n",
    "l1=loss(y_pred_good,y)\n",
    "l2=loss(y_pred_bad,y)\n",
    "print(l1.item()) # good prediction has lower cross entropy \n",
    "print(l2.item()) # bad prediction has higher cross entropy "
   ]
  },
  {
   "cell_type": "code",
   "execution_count": 12,
   "metadata": {},
   "outputs": [],
   "source": [
    "class NeuralNet2(nn.Module):\n",
    "    def __init__(self,input_size,hidden_size,num_classes):\n",
    "        super(NeuralNet2,self).__init__()\n",
    "        self.linear1 = nn.Linear(input_size,hidden_size)\n",
    "        self.relu = nn.ReLU()\n",
    "        self.linear2 = nn.Linear(hidden_size,num_classes)\n",
    "\n",
    "    def forward(self,x):\n",
    "        out = self.linear1(x)\n",
    "        out = self.relu(out)\n",
    "        out = self.linear2(out)\n",
    "        # no softmax at the end\n",
    "        \n",
    "        return out"
   ]
  },
  {
   "cell_type": "code",
   "execution_count": 13,
   "metadata": {},
   "outputs": [],
   "source": [
    "model = NeuralNet2(input_size=28*28,hidden_size=5,num_classes=3)\n",
    "criterion = nn.CrossEntropyLoss() # applies softmax"
   ]
  },
  {
   "cell_type": "code",
   "execution_count": null,
   "metadata": {},
   "outputs": [],
   "source": []
  }
 ],
 "metadata": {
  "interpreter": {
   "hash": "82ed002fa2d4956f5c6aec99bcefe0f73a9f79882f3c9e2319b14958a5896ac5"
  },
  "kernelspec": {
   "display_name": "Python 3.9.6 64-bit",
   "language": "python",
   "name": "python3"
  },
  "language_info": {
   "codemirror_mode": {
    "name": "ipython",
    "version": 3
   },
   "file_extension": ".py",
   "mimetype": "text/x-python",
   "name": "python",
   "nbconvert_exporter": "python",
   "pygments_lexer": "ipython3",
   "version": "3.9.6"
  },
  "orig_nbformat": 4
 },
 "nbformat": 4,
 "nbformat_minor": 2
}
